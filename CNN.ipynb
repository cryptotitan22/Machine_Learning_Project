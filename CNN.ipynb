{
 "cells": [
  {
   "cell_type": "code",
   "execution_count": 1,
   "id": "450063e7",
   "metadata": {
    "execution": {
     "iopub.execute_input": "2023-10-20T11:14:36.074555Z",
     "iopub.status.busy": "2023-10-20T11:14:36.074282Z",
     "iopub.status.idle": "2023-10-20T11:14:49.879331Z",
     "shell.execute_reply": "2023-10-20T11:14:49.878410Z"
    },
    "papermill": {
     "duration": 13.812388,
     "end_time": "2023-10-20T11:14:49.881246",
     "exception": false,
     "start_time": "2023-10-20T11:14:36.068858",
     "status": "completed"
    },
    "tags": []
   },
   "outputs": [
    {
     "name": "stderr",
     "output_type": "stream",
     "text": [
      "/opt/conda/lib/python3.10/site-packages/scipy/__init__.py:146: UserWarning: A NumPy version >=1.16.5 and <1.23.0 is required for this version of SciPy (detected version 1.23.5\n",
      "  warnings.warn(f\"A NumPy version >={np_minversion} and <{np_maxversion}\"\n"
     ]
    },
    {
     "name": "stdout",
     "output_type": "stream",
     "text": [
      "Using TensorFlow backend\n"
     ]
    },
    {
     "data": {
      "text/plain": [
       "'Tensorflow version: 2.12.0'"
      ]
     },
     "execution_count": 1,
     "metadata": {},
     "output_type": "execute_result"
    }
   ],
   "source": [
    "import numpy as np\n",
    "import pandas as pd\n",
    "import matplotlib.pyplot as plt\n",
    "import tensorflow as tf\n",
    "from tensorflow import keras\n",
    "from keras import Sequential\n",
    "from keras.layers import Dense, BatchNormalization, Dropout, Flatten, Resizing, Rescaling, RandomFlip, RandomRotation, RandomBrightness, RandomContrast, RandomZoom\n",
    "from keras.utils import image_dataset_from_directory\n",
    "from keras import Sequential, Input\n",
    "from keras.optimizers import Adam\n",
    "from keras.applications import EfficientNetV2L\n",
    "from sklearn.metrics import ConfusionMatrixDisplay, confusion_matrix\n",
    "from keras import callbacks\n",
    "from torchvision import transforms\n",
    "from keras.preprocessing import image\n",
    "from PIL import Image\n",
    "from keras.losses import SparseCategoricalCrossentropy as scc\n",
    "import cv2\n",
    "from keras_cv.layers import Grayscale\n",
    "f'Tensorflow version: {tf.__version__}'"
   ]
  },
  {
   "cell_type": "code",
   "execution_count": 2,
   "id": "96c46c7b",
   "metadata": {
    "execution": {
     "iopub.execute_input": "2023-10-20T11:14:49.892322Z",
     "iopub.status.busy": "2023-10-20T11:14:49.891807Z",
     "iopub.status.idle": "2023-10-20T11:15:45.647597Z",
     "shell.execute_reply": "2023-10-20T11:15:45.646663Z"
    },
    "papermill": {
     "duration": 55.762936,
     "end_time": "2023-10-20T11:15:45.649360",
     "exception": false,
     "start_time": "2023-10-20T11:14:49.886424",
     "status": "completed"
    },
    "tags": []
   },
   "outputs": [
    {
     "name": "stdout",
     "output_type": "stream",
     "text": [
      "Found 35202 files belonging to 4 classes.\n",
      "Using 28162 files for training.\n",
      "Found 35202 files belonging to 4 classes.\n",
      "Using 7040 files for validation.\n"
     ]
    }
   ],
   "source": [
    "imagesize = 256\n",
    "batchsize = 32\n",
    "rand_seed = 10\n",
    "\n",
    "train_ds = image_dataset_from_directory(\n",
    "    '/kaggle/input/medical-scan-classification-dataset/Alzheimer/Alzheimer/MRI',\n",
    "    image_size = (imagesize, imagesize),\n",
    "    color_mode = 'rgb',\n",
    "    batch_size = batchsize,\n",
    "    validation_split = 0.2,\n",
    "    subset = 'training',\n",
    "    labels = 'inferred',\n",
    "    shuffle = True,\n",
    "    seed = rand_seed\n",
    ")\n",
    "\n",
    "valid_ds = image_dataset_from_directory(\n",
    "    '/kaggle/input/medical-scan-classification-dataset/Alzheimer/Alzheimer/MRI',\n",
    "    image_size = (imagesize, imagesize),\n",
    "    color_mode = 'rgb',\n",
    "    batch_size = batchsize,\n",
    "    validation_split = 0.2,\n",
    "    subset = 'validation',\n",
    "    labels = 'inferred',\n",
    "    shuffle = True,\n",
    "    seed = rand_seed\n",
    ")"
   ]
  },
  {
   "cell_type": "code",
   "execution_count": 3,
   "id": "cb6daa2f",
   "metadata": {
    "execution": {
     "iopub.execute_input": "2023-10-20T11:15:45.659491Z",
     "iopub.status.busy": "2023-10-20T11:15:45.659227Z",
     "iopub.status.idle": "2023-10-20T11:15:45.662785Z",
     "shell.execute_reply": "2023-10-20T11:15:45.661947Z"
    },
    "papermill": {
     "duration": 0.010332,
     "end_time": "2023-10-20T11:15:45.664438",
     "exception": false,
     "start_time": "2023-10-20T11:15:45.654106",
     "status": "completed"
    },
    "tags": []
   },
   "outputs": [],
   "source": [
    "#x = valid_ds.take(1)"
   ]
  },
  {
   "cell_type": "code",
   "execution_count": 4,
   "id": "8e2aabf0",
   "metadata": {
    "execution": {
     "iopub.execute_input": "2023-10-20T11:15:45.673796Z",
     "iopub.status.busy": "2023-10-20T11:15:45.673566Z",
     "iopub.status.idle": "2023-10-20T11:15:45.677011Z",
     "shell.execute_reply": "2023-10-20T11:15:45.676080Z"
    },
    "papermill": {
     "duration": 0.009931,
     "end_time": "2023-10-20T11:15:45.678679",
     "exception": false,
     "start_time": "2023-10-20T11:15:45.668748",
     "status": "completed"
    },
    "tags": []
   },
   "outputs": [],
   "source": [
    "#for i, l in x:\n",
    "#    print(i.shape)\n",
    "#    break"
   ]
  },
  {
   "cell_type": "code",
   "execution_count": 5,
   "id": "dbf58604",
   "metadata": {
    "execution": {
     "iopub.execute_input": "2023-10-20T11:15:45.687719Z",
     "iopub.status.busy": "2023-10-20T11:15:45.687489Z",
     "iopub.status.idle": "2023-10-20T11:15:45.690666Z",
     "shell.execute_reply": "2023-10-20T11:15:45.689925Z"
    },
    "papermill": {
     "duration": 0.009492,
     "end_time": "2023-10-20T11:15:45.692246",
     "exception": false,
     "start_time": "2023-10-20T11:15:45.682754",
     "status": "completed"
    },
    "tags": []
   },
   "outputs": [],
   "source": [
    "#for img, label in valid_ds:\n",
    "#    img = np.repeat(img, 3, 2)"
   ]
  },
  {
   "cell_type": "code",
   "execution_count": 6,
   "id": "09664744",
   "metadata": {
    "execution": {
     "iopub.execute_input": "2023-10-20T11:15:45.701398Z",
     "iopub.status.busy": "2023-10-20T11:15:45.701164Z",
     "iopub.status.idle": "2023-10-20T11:15:45.704822Z",
     "shell.execute_reply": "2023-10-20T11:15:45.704052Z"
    },
    "papermill": {
     "duration": 0.010045,
     "end_time": "2023-10-20T11:15:45.706473",
     "exception": false,
     "start_time": "2023-10-20T11:15:45.696428",
     "status": "completed"
    },
    "tags": []
   },
   "outputs": [],
   "source": [
    "class_names = train_ds.class_names"
   ]
  },
  {
   "cell_type": "code",
   "execution_count": 7,
   "id": "c55d7275",
   "metadata": {
    "execution": {
     "iopub.execute_input": "2023-10-20T11:15:45.715865Z",
     "iopub.status.busy": "2023-10-20T11:15:45.715625Z",
     "iopub.status.idle": "2023-10-20T11:15:45.718981Z",
     "shell.execute_reply": "2023-10-20T11:15:45.718188Z"
    },
    "papermill": {
     "duration": 0.00957,
     "end_time": "2023-10-20T11:15:45.720473",
     "exception": false,
     "start_time": "2023-10-20T11:15:45.710903",
     "status": "completed"
    },
    "tags": []
   },
   "outputs": [],
   "source": [
    "#AUTOTUNE = tf.data.AUTOTUNE\n",
    "\n",
    "#train_ds = train_ds.prefetch(buffer_size=AUTOTUNE)\n",
    "#valid_ds = valid_ds.prefetch(buffer_size=AUTOTUNE)"
   ]
  },
  {
   "cell_type": "code",
   "execution_count": 8,
   "id": "c0f9a71c",
   "metadata": {
    "execution": {
     "iopub.execute_input": "2023-10-20T11:15:45.729743Z",
     "iopub.status.busy": "2023-10-20T11:15:45.729515Z",
     "iopub.status.idle": "2023-10-20T11:16:09.282083Z",
     "shell.execute_reply": "2023-10-20T11:16:09.281350Z"
    },
    "papermill": {
     "duration": 23.559466,
     "end_time": "2023-10-20T11:16:09.284039",
     "exception": false,
     "start_time": "2023-10-20T11:15:45.724573",
     "status": "completed"
    },
    "tags": []
   },
   "outputs": [
    {
     "name": "stdout",
     "output_type": "stream",
     "text": [
      "Downloading data from https://storage.googleapis.com/tensorflow/keras-applications/efficientnet_v2/efficientnetv2-l_notop.h5\n",
      "473176280/473176280 [==============================] - 15s 0us/step\n"
     ]
    }
   ],
   "source": [
    "base_model = EfficientNetV2L(include_top=False,\n",
    "    weights='imagenet',\n",
    "    input_shape=(imagesize, imagesize, 3))\n",
    "base_model.trainable = False"
   ]
  },
  {
   "cell_type": "code",
   "execution_count": 9,
   "id": "39e407ef",
   "metadata": {
    "execution": {
     "iopub.execute_input": "2023-10-20T11:16:09.314928Z",
     "iopub.status.busy": "2023-10-20T11:16:09.314637Z",
     "iopub.status.idle": "2023-10-20T11:16:09.358719Z",
     "shell.execute_reply": "2023-10-20T11:16:09.357842Z"
    },
    "papermill": {
     "duration": 0.0611,
     "end_time": "2023-10-20T11:16:09.360313",
     "exception": false,
     "start_time": "2023-10-20T11:16:09.299213",
     "status": "completed"
    },
    "tags": []
   },
   "outputs": [],
   "source": [
    "base_model.trainable = True\n",
    "\n",
    "set_trainable = False\n",
    "\n",
    "for layer in base_model.layers:\n",
    "  if layer.name == 'block7a_expand_conv':\n",
    "    set_trainable = True\n",
    "  if set_trainable:\n",
    "    layer.trainable = True\n",
    "  else:\n",
    "    layer.trainable = False\n",
    "\n",
    "#for layer in base_model.layers:\n",
    "#  print(layer.name,layer.trainable)"
   ]
  },
  {
   "cell_type": "code",
   "execution_count": 10,
   "id": "8558f81b",
   "metadata": {
    "execution": {
     "iopub.execute_input": "2023-10-20T11:16:09.389723Z",
     "iopub.status.busy": "2023-10-20T11:16:09.389487Z",
     "iopub.status.idle": "2023-10-20T11:16:09.401705Z",
     "shell.execute_reply": "2023-10-20T11:16:09.400910Z"
    },
    "papermill": {
     "duration": 0.028764,
     "end_time": "2023-10-20T11:16:09.403336",
     "exception": false,
     "start_time": "2023-10-20T11:16:09.374572",
     "status": "completed"
    },
    "tags": []
   },
   "outputs": [],
   "source": [
    "data_augmentation = Sequential([\n",
    "    RandomFlip('horizontal_and_vertical'),\n",
    "    RandomRotation(0.2),\n",
    "    RandomBrightness(0.2),\n",
    "    RandomContrast(0.2),\n",
    "    Rescaling(1./255),\n",
    "    RandomZoom(height_factor=(-0.1, 0.1), width_factor = (-0.1, 0.1))\n",
    "])"
   ]
  },
  {
   "cell_type": "code",
   "execution_count": 11,
   "id": "0732a857",
   "metadata": {
    "execution": {
     "iopub.execute_input": "2023-10-20T11:16:09.432494Z",
     "iopub.status.busy": "2023-10-20T11:16:09.432021Z",
     "iopub.status.idle": "2023-10-20T11:16:09.435656Z",
     "shell.execute_reply": "2023-10-20T11:16:09.434869Z"
    },
    "papermill": {
     "duration": 0.020202,
     "end_time": "2023-10-20T11:16:09.437534",
     "exception": false,
     "start_time": "2023-10-20T11:16:09.417332",
     "status": "completed"
    },
    "tags": []
   },
   "outputs": [],
   "source": [
    "grayscale = transforms.Grayscale(num_output_channels = 3)"
   ]
  },
  {
   "cell_type": "code",
   "execution_count": 12,
   "id": "1c10258d",
   "metadata": {
    "execution": {
     "iopub.execute_input": "2023-10-20T11:16:09.467341Z",
     "iopub.status.busy": "2023-10-20T11:16:09.467126Z",
     "iopub.status.idle": "2023-10-20T11:16:09.470417Z",
     "shell.execute_reply": "2023-10-20T11:16:09.469707Z"
    },
    "papermill": {
     "duration": 0.020489,
     "end_time": "2023-10-20T11:16:09.472158",
     "exception": false,
     "start_time": "2023-10-20T11:16:09.451669",
     "status": "completed"
    },
    "tags": []
   },
   "outputs": [],
   "source": [
    "lr_init = 0.00015"
   ]
  },
  {
   "cell_type": "code",
   "execution_count": 13,
   "id": "3e3fc3a7",
   "metadata": {
    "execution": {
     "iopub.execute_input": "2023-10-20T11:16:09.501577Z",
     "iopub.status.busy": "2023-10-20T11:16:09.501360Z",
     "iopub.status.idle": "2023-10-20T11:16:09.504657Z",
     "shell.execute_reply": "2023-10-20T11:16:09.503891Z"
    },
    "papermill": {
     "duration": 0.019635,
     "end_time": "2023-10-20T11:16:09.506164",
     "exception": false,
     "start_time": "2023-10-20T11:16:09.486529",
     "status": "completed"
    },
    "tags": []
   },
   "outputs": [],
   "source": [
    "lr_const = 0.00015"
   ]
  },
  {
   "cell_type": "code",
   "execution_count": 14,
   "id": "aca98627",
   "metadata": {
    "execution": {
     "iopub.execute_input": "2023-10-20T11:16:09.535275Z",
     "iopub.status.busy": "2023-10-20T11:16:09.534776Z",
     "iopub.status.idle": "2023-10-20T11:16:09.639302Z",
     "shell.execute_reply": "2023-10-20T11:16:09.638388Z"
    },
    "papermill": {
     "duration": 0.121042,
     "end_time": "2023-10-20T11:16:09.641219",
     "exception": false,
     "start_time": "2023-10-20T11:16:09.520177",
     "status": "completed"
    },
    "tags": []
   },
   "outputs": [],
   "source": [
    "model = Sequential([\n",
    "    RandomZoom(0.1,0.1),\n",
    "    RandomContrast(0.1),\n",
    "    RandomBrightness(0.1),\n",
    "    RandomFlip(\"horizontal\"),\n",
    "    Grayscale(output_channels=3),\n",
    "    #Rescaling(1./255),\n",
    "    base_model,\n",
    "    Flatten(),\n",
    "    Dense(1024, activation = 'relu'),\n",
    "    BatchNormalization(),\n",
    "    Dense(512, activation = 'relu'),\n",
    "    BatchNormalization(),\n",
    "    Dense(512, activation = 'relu'),\n",
    "    BatchNormalization(),\n",
    "    Dense(256, activation = 'relu'),\n",
    "    BatchNormalization(),\n",
    "    Dense(128, activation = 'relu'),\n",
    "    BatchNormalization(),\n",
    "    Dropout(0.2),\n",
    "    Dense(4, activation = 'softmax')\n",
    "])"
   ]
  },
  {
   "cell_type": "code",
   "execution_count": 15,
   "id": "d9cfd778",
   "metadata": {
    "execution": {
     "iopub.execute_input": "2023-10-20T11:16:09.671371Z",
     "iopub.status.busy": "2023-10-20T11:16:09.671105Z",
     "iopub.status.idle": "2023-10-20T11:16:09.674560Z",
     "shell.execute_reply": "2023-10-20T11:16:09.673723Z"
    },
    "papermill": {
     "duration": 0.020327,
     "end_time": "2023-10-20T11:16:09.676265",
     "exception": false,
     "start_time": "2023-10-20T11:16:09.655938",
     "status": "completed"
    },
    "tags": []
   },
   "outputs": [],
   "source": [
    "#model = create_model(base_model)\n",
    "#model.summary()"
   ]
  },
  {
   "cell_type": "code",
   "execution_count": 16,
   "id": "b41787af",
   "metadata": {
    "execution": {
     "iopub.execute_input": "2023-10-20T11:16:09.750586Z",
     "iopub.status.busy": "2023-10-20T11:16:09.750261Z",
     "iopub.status.idle": "2023-10-20T11:16:09.754509Z",
     "shell.execute_reply": "2023-10-20T11:16:09.753650Z"
    },
    "papermill": {
     "duration": 0.021254,
     "end_time": "2023-10-20T11:16:09.756105",
     "exception": false,
     "start_time": "2023-10-20T11:16:09.734851",
     "status": "completed"
    },
    "tags": []
   },
   "outputs": [],
   "source": [
    "early_stopping = callbacks.EarlyStopping(\n",
    "    monitor='val_accuracy',\n",
    "    min_delta=0.001,\n",
    "    patience=10,\n",
    "    restore_best_weights=True,\n",
    ")"
   ]
  },
  {
   "cell_type": "code",
   "execution_count": 17,
   "id": "e9356d71",
   "metadata": {
    "execution": {
     "iopub.execute_input": "2023-10-20T11:16:09.785800Z",
     "iopub.status.busy": "2023-10-20T11:16:09.785542Z",
     "iopub.status.idle": "2023-10-20T11:16:09.789774Z",
     "shell.execute_reply": "2023-10-20T11:16:09.788967Z"
    },
    "papermill": {
     "duration": 0.022009,
     "end_time": "2023-10-20T11:16:09.792285",
     "exception": false,
     "start_time": "2023-10-20T11:16:09.770276",
     "status": "completed"
    },
    "tags": []
   },
   "outputs": [],
   "source": [
    "def lr_scheduler(epoch, lr):\n",
    "    if epoch < 8:\n",
    "        return lr + lr_init\n",
    "    elif epoch < 25:\n",
    "        return lr\n",
    "    else:\n",
    "        return lr * tf.math.exp(-0.1)"
   ]
  },
  {
   "cell_type": "code",
   "execution_count": 18,
   "id": "2897b92c",
   "metadata": {
    "execution": {
     "iopub.execute_input": "2023-10-20T11:16:09.843506Z",
     "iopub.status.busy": "2023-10-20T11:16:09.843200Z",
     "iopub.status.idle": "2023-10-20T11:16:09.848189Z",
     "shell.execute_reply": "2023-10-20T11:16:09.847003Z"
    },
    "papermill": {
     "duration": 0.032611,
     "end_time": "2023-10-20T11:16:09.850715",
     "exception": false,
     "start_time": "2023-10-20T11:16:09.818104",
     "status": "completed"
    },
    "tags": []
   },
   "outputs": [],
   "source": [
    "lr_callback = callbacks.LearningRateScheduler(lr_scheduler, verbose = 1)"
   ]
  },
  {
   "cell_type": "code",
   "execution_count": 19,
   "id": "c45470ce",
   "metadata": {
    "execution": {
     "iopub.execute_input": "2023-10-20T11:16:09.901421Z",
     "iopub.status.busy": "2023-10-20T11:16:09.900621Z",
     "iopub.status.idle": "2023-10-20T11:16:09.908146Z",
     "shell.execute_reply": "2023-10-20T11:16:09.907190Z"
    },
    "papermill": {
     "duration": 0.033972,
     "end_time": "2023-10-20T11:16:09.910071",
     "exception": false,
     "start_time": "2023-10-20T11:16:09.876099",
     "status": "completed"
    },
    "tags": []
   },
   "outputs": [],
   "source": [
    "def plot_history(history):\n",
    "    acc = history.history['accuracy']\n",
    "    val_acc = history.history['val_accuracy']\n",
    "\n",
    "    loss=history.history['loss']\n",
    "    val_loss=history.history['val_loss']\n",
    "    plt.figure(figsize=(12, 6))\n",
    "    plt.subplot(1, 2, 1)\n",
    "    plt.plot(acc, label='Training Accuracy')\n",
    "    plt.plot(val_acc, label='Validation Accuracy')\n",
    "    plt.legend(loc='lower right')\n",
    "    plt.title('Training and Validation Accuracy')\n",
    "\n",
    "    plt.subplot(1, 2, 2)\n",
    "    plt.plot(loss, label='Training Loss')\n",
    "    plt.plot(val_loss, label='Validation Loss')\n",
    "    plt.legend(loc='upper right')\n",
    "    plt.title('Training and Validation Loss')\n",
    "    plt.show()"
   ]
  },
  {
   "cell_type": "code",
   "execution_count": 20,
   "id": "00b71f75",
   "metadata": {
    "execution": {
     "iopub.execute_input": "2023-10-20T11:16:09.940286Z",
     "iopub.status.busy": "2023-10-20T11:16:09.939635Z",
     "iopub.status.idle": "2023-10-20T11:16:09.965050Z",
     "shell.execute_reply": "2023-10-20T11:16:09.964437Z"
    },
    "papermill": {
     "duration": 0.041823,
     "end_time": "2023-10-20T11:16:09.966490",
     "exception": false,
     "start_time": "2023-10-20T11:16:09.924667",
     "status": "completed"
    },
    "tags": []
   },
   "outputs": [],
   "source": [
    "model.compile(optimizer=Adam(lr_init),\n",
    "              loss='sparse_categorical_crossentropy',\n",
    "              metrics=['accuracy'])"
   ]
  },
  {
   "cell_type": "code",
   "execution_count": 21,
   "id": "08b9a367",
   "metadata": {
    "execution": {
     "iopub.execute_input": "2023-10-20T11:16:09.995588Z",
     "iopub.status.busy": "2023-10-20T11:16:09.995352Z",
     "iopub.status.idle": "2023-10-20T16:12:02.524351Z",
     "shell.execute_reply": "2023-10-20T16:12:02.523448Z"
    },
    "papermill": {
     "duration": 17754.432388,
     "end_time": "2023-10-20T16:12:04.412945",
     "exception": false,
     "start_time": "2023-10-20T11:16:09.980557",
     "status": "completed"
    },
    "tags": []
   },
   "outputs": [
    {
     "name": "stdout",
     "output_type": "stream",
     "text": [
      "\n",
      "Epoch 1: LearningRateScheduler setting learning rate to 0.00030000000712461766.\n",
      "Epoch 1/100\n"
     ]
    },
    {
     "name": "stderr",
     "output_type": "stream",
     "text": [
      "2023-10-20 11:16:39.688237: E tensorflow/core/grappler/optimizers/meta_optimizer.cc:954] layout failed: INVALID_ARGUMENT: Size of values 0 does not match size of permutation 4 @ fanin shape insequential_1/efficientnetv2-l/block1b_drop/dropout/SelectV2-2-TransposeNHWCToNCHW-LayoutOptimizer\n"
     ]
    },
    {
     "name": "stdout",
     "output_type": "stream",
     "text": [
      "881/881 [==============================] - 435s 451ms/step - loss: 1.0239 - accuracy: 0.5493 - val_loss: 0.7771 - val_accuracy: 0.6257 - lr: 3.0000e-04\n",
      "\n",
      "Epoch 2: LearningRateScheduler setting learning rate to 0.00045000001424923535.\n",
      "Epoch 2/100\n",
      "881/881 [==============================] - 391s 444ms/step - loss: 0.7903 - accuracy: 0.6273 - val_loss: 0.7693 - val_accuracy: 0.6347 - lr: 4.5000e-04\n",
      "\n",
      "Epoch 3: LearningRateScheduler setting learning rate to 0.000600000021373853.\n",
      "Epoch 3/100\n",
      "881/881 [==============================] - 391s 443ms/step - loss: 0.8272 - accuracy: 0.6128 - val_loss: 1.0019 - val_accuracy: 0.5413 - lr: 6.0000e-04\n",
      "\n",
      "Epoch 4: LearningRateScheduler setting learning rate to 0.0007500000284984707.\n",
      "Epoch 4/100\n",
      "881/881 [==============================] - 391s 444ms/step - loss: 0.7720 - accuracy: 0.6352 - val_loss: 0.6573 - val_accuracy: 0.6847 - lr: 7.5000e-04\n",
      "\n",
      "Epoch 5: LearningRateScheduler setting learning rate to 0.000900000006519258.\n",
      "Epoch 5/100\n",
      "881/881 [==============================] - 391s 444ms/step - loss: 0.6662 - accuracy: 0.6832 - val_loss: 2.1935 - val_accuracy: 0.7094 - lr: 9.0000e-04\n",
      "\n",
      "Epoch 6: LearningRateScheduler setting learning rate to 0.0010499999845400452.\n",
      "Epoch 6/100\n",
      "881/881 [==============================] - 391s 444ms/step - loss: 0.5825 - accuracy: 0.7351 - val_loss: 0.5320 - val_accuracy: 0.7639 - lr: 0.0010\n",
      "\n",
      "Epoch 7: LearningRateScheduler setting learning rate to 0.0011999999625608325.\n",
      "Epoch 7/100\n",
      "881/881 [==============================] - 391s 444ms/step - loss: 0.5582 - accuracy: 0.7569 - val_loss: 0.4305 - val_accuracy: 0.8305 - lr: 0.0012\n",
      "\n",
      "Epoch 8: LearningRateScheduler setting learning rate to 0.0013499999405816197.\n",
      "Epoch 8/100\n",
      "881/881 [==============================] - 391s 443ms/step - loss: 0.4212 - accuracy: 0.8271 - val_loss: 0.4701 - val_accuracy: 0.8672 - lr: 0.0013\n",
      "\n",
      "Epoch 9: LearningRateScheduler setting learning rate to 0.001349999918602407.\n",
      "Epoch 9/100\n",
      "881/881 [==============================] - 392s 445ms/step - loss: 0.3180 - accuracy: 0.8736 - val_loss: 4.5677 - val_accuracy: 0.8938 - lr: 0.0013\n",
      "\n",
      "Epoch 10: LearningRateScheduler setting learning rate to 0.001349999918602407.\n",
      "Epoch 10/100\n",
      "881/881 [==============================] - 392s 444ms/step - loss: 0.2649 - accuracy: 0.8994 - val_loss: 0.2652 - val_accuracy: 0.8982 - lr: 0.0013\n",
      "\n",
      "Epoch 11: LearningRateScheduler setting learning rate to 0.001349999918602407.\n",
      "Epoch 11/100\n",
      "881/881 [==============================] - 392s 445ms/step - loss: 0.2311 - accuracy: 0.9126 - val_loss: 0.3887 - val_accuracy: 0.9402 - lr: 0.0013\n",
      "\n",
      "Epoch 12: LearningRateScheduler setting learning rate to 0.001349999918602407.\n",
      "Epoch 12/100\n",
      "881/881 [==============================] - 391s 444ms/step - loss: 0.1837 - accuracy: 0.9316 - val_loss: 4.4243 - val_accuracy: 0.9168 - lr: 0.0013\n",
      "\n",
      "Epoch 13: LearningRateScheduler setting learning rate to 0.001349999918602407.\n",
      "Epoch 13/100\n",
      "881/881 [==============================] - 417s 473ms/step - loss: 0.1662 - accuracy: 0.9386 - val_loss: 0.1267 - val_accuracy: 0.9510 - lr: 0.0013\n",
      "\n",
      "Epoch 14: LearningRateScheduler setting learning rate to 0.001349999918602407.\n",
      "Epoch 14/100\n",
      "881/881 [==============================] - 390s 443ms/step - loss: 0.1571 - accuracy: 0.9415 - val_loss: 0.0801 - val_accuracy: 0.9724 - lr: 0.0013\n",
      "\n",
      "Epoch 15: LearningRateScheduler setting learning rate to 0.001349999918602407.\n",
      "Epoch 15/100\n",
      "881/881 [==============================] - 391s 444ms/step - loss: 0.1389 - accuracy: 0.9510 - val_loss: 0.1133 - val_accuracy: 0.9587 - lr: 0.0013\n",
      "\n",
      "Epoch 16: LearningRateScheduler setting learning rate to 0.001349999918602407.\n",
      "Epoch 16/100\n",
      "881/881 [==============================] - 391s 443ms/step - loss: 0.1250 - accuracy: 0.9561 - val_loss: 0.1249 - val_accuracy: 0.9574 - lr: 0.0013\n",
      "\n",
      "Epoch 17: LearningRateScheduler setting learning rate to 0.001349999918602407.\n",
      "Epoch 17/100\n",
      "881/881 [==============================] - 391s 444ms/step - loss: 0.1150 - accuracy: 0.9600 - val_loss: 0.0677 - val_accuracy: 0.9737 - lr: 0.0013\n",
      "\n",
      "Epoch 18: LearningRateScheduler setting learning rate to 0.001349999918602407.\n",
      "Epoch 18/100\n",
      "881/881 [==============================] - 390s 443ms/step - loss: 0.0972 - accuracy: 0.9657 - val_loss: 0.0413 - val_accuracy: 0.9862 - lr: 0.0013\n",
      "\n",
      "Epoch 19: LearningRateScheduler setting learning rate to 0.001349999918602407.\n",
      "Epoch 19/100\n",
      "881/881 [==============================] - 391s 443ms/step - loss: 0.0900 - accuracy: 0.9675 - val_loss: 0.0547 - val_accuracy: 0.9801 - lr: 0.0013\n",
      "\n",
      "Epoch 20: LearningRateScheduler setting learning rate to 0.001349999918602407.\n",
      "Epoch 20/100\n",
      "881/881 [==============================] - 390s 442ms/step - loss: 0.0860 - accuracy: 0.9704 - val_loss: 0.0406 - val_accuracy: 0.9899 - lr: 0.0013\n",
      "\n",
      "Epoch 21: LearningRateScheduler setting learning rate to 0.001349999918602407.\n",
      "Epoch 21/100\n",
      "881/881 [==============================] - 390s 443ms/step - loss: 0.0756 - accuracy: 0.9745 - val_loss: 0.0445 - val_accuracy: 0.9878 - lr: 0.0013\n",
      "\n",
      "Epoch 22: LearningRateScheduler setting learning rate to 0.001349999918602407.\n",
      "Epoch 22/100\n",
      "881/881 [==============================] - 391s 443ms/step - loss: 0.0732 - accuracy: 0.9743 - val_loss: 0.0434 - val_accuracy: 0.9845 - lr: 0.0013\n",
      "\n",
      "Epoch 23: LearningRateScheduler setting learning rate to 0.001349999918602407.\n",
      "Epoch 23/100\n",
      "881/881 [==============================] - 390s 443ms/step - loss: 0.0767 - accuracy: 0.9745 - val_loss: 0.0303 - val_accuracy: 0.9899 - lr: 0.0013\n",
      "\n",
      "Epoch 24: LearningRateScheduler setting learning rate to 0.001349999918602407.\n",
      "Epoch 24/100\n",
      "881/881 [==============================] - 390s 443ms/step - loss: 0.0632 - accuracy: 0.9782 - val_loss: 0.0508 - val_accuracy: 0.9861 - lr: 0.0013\n",
      "\n",
      "Epoch 25: LearningRateScheduler setting learning rate to 0.001349999918602407.\n",
      "Epoch 25/100\n",
      "881/881 [==============================] - 390s 443ms/step - loss: 0.0652 - accuracy: 0.9775 - val_loss: 0.0572 - val_accuracy: 0.9822 - lr: 0.0013\n",
      "\n",
      "Epoch 26: LearningRateScheduler setting learning rate to 0.0012215303722769022.\n",
      "Epoch 26/100\n",
      "881/881 [==============================] - 390s 443ms/step - loss: 0.0638 - accuracy: 0.9784 - val_loss: 0.0260 - val_accuracy: 0.9909 - lr: 0.0012\n",
      "\n",
      "Epoch 27: LearningRateScheduler setting learning rate to 0.0011052862973883748.\n",
      "Epoch 27/100\n",
      "881/881 [==============================] - 392s 445ms/step - loss: 0.0453 - accuracy: 0.9837 - val_loss: 0.0227 - val_accuracy: 0.9932 - lr: 0.0011\n",
      "\n",
      "Epoch 28: LearningRateScheduler setting learning rate to 0.0010001043556258082.\n",
      "Epoch 28/100\n",
      "881/881 [==============================] - 390s 442ms/step - loss: 0.0370 - accuracy: 0.9881 - val_loss: 0.1158 - val_accuracy: 0.9737 - lr: 0.0010\n",
      "\n",
      "Epoch 29: LearningRateScheduler setting learning rate to 0.0009049318032339215.\n",
      "Epoch 29/100\n",
      "881/881 [==============================] - 391s 444ms/step - loss: 0.0363 - accuracy: 0.9887 - val_loss: 0.0363 - val_accuracy: 0.9899 - lr: 9.0493e-04\n",
      "\n",
      "Epoch 30: LearningRateScheduler setting learning rate to 0.0008188161300495267.\n",
      "Epoch 30/100\n",
      "881/881 [==============================] - 390s 442ms/step - loss: 0.0293 - accuracy: 0.9906 - val_loss: 0.0221 - val_accuracy: 0.9919 - lr: 8.1882e-04\n",
      "\n",
      "Epoch 31: LearningRateScheduler setting learning rate to 0.000740895455237478.\n",
      "Epoch 31/100\n",
      "881/881 [==============================] - 391s 444ms/step - loss: 0.0252 - accuracy: 0.9919 - val_loss: 0.0808 - val_accuracy: 0.9923 - lr: 7.4090e-04\n",
      "\n",
      "Epoch 32: LearningRateScheduler setting learning rate to 0.0006703899125568569.\n",
      "Epoch 32/100\n",
      "881/881 [==============================] - 392s 444ms/step - loss: 0.0239 - accuracy: 0.9919 - val_loss: 0.0157 - val_accuracy: 0.9947 - lr: 6.7039e-04\n",
      "\n",
      "Epoch 33: LearningRateScheduler setting learning rate to 0.0006065938505344093.\n",
      "Epoch 33/100\n",
      "881/881 [==============================] - 391s 443ms/step - loss: 0.0234 - accuracy: 0.9924 - val_loss: 0.0145 - val_accuracy: 0.9959 - lr: 6.0659e-04\n",
      "\n",
      "Epoch 34: LearningRateScheduler setting learning rate to 0.0005488687893375754.\n",
      "Epoch 34/100\n",
      "881/881 [==============================] - 391s 443ms/step - loss: 0.0171 - accuracy: 0.9944 - val_loss: 0.0187 - val_accuracy: 0.9949 - lr: 5.4887e-04\n",
      "\n",
      "Epoch 35: LearningRateScheduler setting learning rate to 0.0004966370179317892.\n",
      "Epoch 35/100\n",
      "881/881 [==============================] - 390s 442ms/step - loss: 0.0138 - accuracy: 0.9955 - val_loss: 0.0100 - val_accuracy: 0.9974 - lr: 4.9664e-04\n",
      "\n",
      "Epoch 36: LearningRateScheduler setting learning rate to 0.00044937574421055615.\n",
      "Epoch 36/100\n",
      "881/881 [==============================] - 390s 442ms/step - loss: 0.0139 - accuracy: 0.9953 - val_loss: 0.0110 - val_accuracy: 0.9966 - lr: 4.4938e-04\n",
      "\n",
      "Epoch 37: LearningRateScheduler setting learning rate to 0.00040661197272129357.\n",
      "Epoch 37/100\n",
      "881/881 [==============================] - 390s 442ms/step - loss: 0.0107 - accuracy: 0.9964 - val_loss: 0.0096 - val_accuracy: 0.9966 - lr: 4.0661e-04\n",
      "\n",
      "Epoch 38: LearningRateScheduler setting learning rate to 0.0003679177025333047.\n",
      "Epoch 38/100\n",
      "881/881 [==============================] - 388s 440ms/step - loss: 0.0115 - accuracy: 0.9965 - val_loss: 0.0282 - val_accuracy: 0.9964 - lr: 3.6792e-04\n",
      "\n",
      "Epoch 39: LearningRateScheduler setting learning rate to 0.0003329056780785322.\n",
      "Epoch 39/100\n",
      "881/881 [==============================] - 389s 441ms/step - loss: 0.0122 - accuracy: 0.9961 - val_loss: 0.0076 - val_accuracy: 0.9970 - lr: 3.3291e-04\n",
      "\n",
      "Epoch 40: LearningRateScheduler setting learning rate to 0.0003012254892382771.\n",
      "Epoch 40/100\n",
      "881/881 [==============================] - 390s 442ms/step - loss: 0.0085 - accuracy: 0.9970 - val_loss: 0.0062 - val_accuracy: 0.9983 - lr: 3.0123e-04\n",
      "\n",
      "Epoch 41: LearningRateScheduler setting learning rate to 0.0002725600788835436.\n",
      "Epoch 41/100\n",
      "881/881 [==============================] - 390s 442ms/step - loss: 0.0077 - accuracy: 0.9971 - val_loss: 0.0156 - val_accuracy: 0.9974 - lr: 2.7256e-04\n",
      "\n",
      "Epoch 42: LearningRateScheduler setting learning rate to 0.00024662254145368934.\n",
      "Epoch 42/100\n",
      "881/881 [==============================] - 390s 443ms/step - loss: 0.0083 - accuracy: 0.9977 - val_loss: 0.0070 - val_accuracy: 0.9980 - lr: 2.4662e-04\n",
      "\n",
      "Epoch 43: LearningRateScheduler setting learning rate to 0.00022315328533295542.\n",
      "Epoch 43/100\n",
      "881/881 [==============================] - 391s 444ms/step - loss: 0.0057 - accuracy: 0.9983 - val_loss: 0.0072 - val_accuracy: 0.9977 - lr: 2.2315e-04\n",
      "\n",
      "Epoch 44: LearningRateScheduler setting learning rate to 0.0002019174280576408.\n",
      "Epoch 44/100\n",
      "881/881 [==============================] - 391s 444ms/step - loss: 0.0068 - accuracy: 0.9978 - val_loss: 0.0097 - val_accuracy: 0.9974 - lr: 2.0192e-04\n",
      "\n",
      "Epoch 45: LearningRateScheduler setting learning rate to 0.00018270243890583515.\n",
      "Epoch 45/100\n",
      "881/881 [==============================] - 392s 444ms/step - loss: 0.0070 - accuracy: 0.9978 - val_loss: 0.0116 - val_accuracy: 0.9970 - lr: 1.8270e-04\n"
     ]
    }
   ],
   "source": [
    "history = model.fit(train_ds,\n",
    "                    epochs=100,\n",
    "                    validation_data=valid_ds,\n",
    "                   callbacks=[early_stopping,lr_callback])"
   ]
  },
  {
   "cell_type": "code",
   "execution_count": 22,
   "id": "51d5e8b8",
   "metadata": {
    "execution": {
     "iopub.execute_input": "2023-10-20T16:12:08.051062Z",
     "iopub.status.busy": "2023-10-20T16:12:08.050701Z",
     "iopub.status.idle": "2023-10-20T16:12:12.781333Z",
     "shell.execute_reply": "2023-10-20T16:12:12.780344Z"
    },
    "papermill": {
     "duration": 6.495958,
     "end_time": "2023-10-20T16:12:12.783328",
     "exception": false,
     "start_time": "2023-10-20T16:12:06.287370",
     "status": "completed"
    },
    "tags": []
   },
   "outputs": [],
   "source": [
    "model.save('alzheimer_detection.h5')"
   ]
  },
  {
   "cell_type": "code",
   "execution_count": 23,
   "id": "7ce6759e",
   "metadata": {
    "execution": {
     "iopub.execute_input": "2023-10-20T16:12:16.547047Z",
     "iopub.status.busy": "2023-10-20T16:12:16.546198Z",
     "iopub.status.idle": "2023-10-20T16:12:16.869663Z",
     "shell.execute_reply": "2023-10-20T16:12:16.868779Z"
    },
    "papermill": {
     "duration": 2.229894,
     "end_time": "2023-10-20T16:12:16.871392",
     "exception": false,
     "start_time": "2023-10-20T16:12:14.641498",
     "status": "completed"
    },
    "tags": []
   },
   "outputs": [
    {
     "data": {
      "image/png": "[encoded data removed]",
      "text/plain": [
       "<Figure size 1200x600 with 2 Axes>"
      ]
     },
     "metadata": {},
     "output_type": "display_data"
    }
   ],
   "source": [
    "plot_history(history)"
   ]
  },
  {
   "cell_type": "code",
   "execution_count": null,
   "id": "65f1459e",
   "metadata": {
    "papermill": {
     "duration": 2.050446,
     "end_time": "2023-10-20T16:12:20.857718",
     "exception": false,
     "start_time": "2023-10-20T16:12:18.807272",
     "status": "completed"
    },
    "tags": []
   },
   "outputs": [],
   "source": []
  }
 ],
 "metadata": {
  "kernelspec": {
   "display_name": "Python 3",
   "language": "python",
   "name": "python3"
  },
  "language_info": {
   "codemirror_mode": {
    "name": "ipython",
    "version": 3
   },
   "file_extension": ".py",
   "mimetype": "text/x-python",
   "name": "python",
   "nbconvert_exporter": "python",
   "pygments_lexer": "ipython3",
   "version": "3.10.12"
  },
  "papermill": {
   "default_parameters": {},
   "duration": 17873.278286,
   "end_time": "2023-10-20T16:12:26.437652",
   "environment_variables": {},
   "exception": null,
   "input_path": "__notebook__.ipynb",
   "output_path": "__notebook__.ipynb",
   "parameters": {},
   "start_time": "2023-10-20T11:14:33.159366",
   "version": "2.4.0"
  }
 },
 "nbformat": 4,
 "nbformat_minor": 5
}
